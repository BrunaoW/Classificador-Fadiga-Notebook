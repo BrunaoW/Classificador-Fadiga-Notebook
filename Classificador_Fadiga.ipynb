{
  "nbformat": 4,
  "nbformat_minor": 0,
  "metadata": {
    "colab": {
      "provenance": [],
      "gpuType": "T4"
    },
    "kernelspec": {
      "name": "python3",
      "display_name": "Python 3"
    },
    "language_info": {
      "name": "python"
    },
    "accelerator": "GPU"
  },
  "cells": [
    {
      "cell_type": "code",
      "execution_count": 1,
      "metadata": {
        "id": "nvNy4oCqPXt8"
      },
      "outputs": [],
      "source": [
        "import io\n",
        "import json\n",
        "\n",
        "import numpy as np\n",
        "import tensorflow as tf\n",
        "from tensorflow import keras\n",
        "from tensorflow.keras import layers, models\n",
        "from tensorflow.keras.models import Sequential\n",
        "from tensorflow.keras.layers import Conv1D, MaxPooling1D, Flatten, Dense, Dropout\n",
        "\n",
        "import random\n",
        "import matplotlib.pyplot as plt"
      ]
    },
    {
      "cell_type": "markdown",
      "source": [
        "**Lê os arquivos do dataset, contendo os pontos da face de cada imagem e probabilidade de olho aberto**"
      ],
      "metadata": {
        "id": "4pxIj4ZLSrxF"
      }
    },
    {
      "cell_type": "code",
      "source": [
        "drowsy_data_file = open(\"./dataset_facesList_drowsy.json\")\n",
        "notdrowsy_data_file = open(\"./dataset_facesList_notdrowsy.json\")\n",
        "\n",
        "drowsy_dataset = json.load(drowsy_data_file)\n",
        "notdrowsy_dataset = json.load(notdrowsy_data_file)"
      ],
      "metadata": {
        "id": "AjyOK3iLQHvn"
      },
      "execution_count": 6,
      "outputs": []
    },
    {
      "cell_type": "markdown",
      "source": [
        "**Faz o pré-processamento dos dados, para utilizar o formato de entrada da rede proposta de 1x268. No final, é separado 70% dos dados para treinamento, e 30% para teste**"
      ],
      "metadata": {
        "id": "Jx6e6sfCS5kF"
      }
    },
    {
      "cell_type": "code",
      "source": [
        "random.seed(1)\n",
        "\n",
        "dataset_input = [*drowsy_dataset, *notdrowsy_dataset]\n",
        "expected_output = [1 for _ in range(len(drowsy_dataset))] + [0 for _ in range(len(notdrowsy_dataset))]\n",
        "\n",
        "complete_dataset = list(zip(dataset_input, expected_output))\n",
        "\n",
        "random.shuffle(complete_dataset)\n",
        "x_dataset, y_dataset = zip(*complete_dataset)\n",
        "\n",
        "shuffled_x_data = list(x_dataset)\n",
        "shuffled_y_data = list(y_dataset)\n",
        "\n",
        "treated_shuffled_x_data = []\n",
        "\n",
        "for x_entry in shuffled_x_data:\n",
        "  points = x_entry['allPoints']\n",
        "  random_angle = np.random.uniform(-15, 15)\n",
        "\n",
        "  dx = random.uniform(10, 50)\n",
        "  dy = random.uniform(10, 50)\n",
        "\n",
        "  x_face_coord = [point['x'] + dx for point in points]\n",
        "  y_face_coord = [point['y']  + dy for point in points]\n",
        "  perclos_info = [x_entry['leftEyePerClos'], x_entry['rightEyePerClos']]\n",
        "\n",
        "  treated_shuffled_x_data.append(np.array([*x_face_coord, *y_face_coord, *perclos_info]))\n",
        "\n",
        "treated_shuffled_x_data = tf.reshape(treated_shuffled_x_data, (-1, 1, 268))\n",
        "shuffled_y_data = tf.convert_to_tensor(shuffled_y_data, dtype=tf.float32)\n",
        "\n",
        "x_train = treated_shuffled_x_data[:round(0.7*len(treated_shuffled_x_data))]\n",
        "y_train = shuffled_y_data[:round(0.7*len(shuffled_y_data))]\n",
        "\n",
        "x_test = treated_shuffled_x_data[round(0.7*len(treated_shuffled_x_data)) + 1:]\n",
        "y_test = shuffled_y_data[round(0.7*len(shuffled_y_data)) + 1:]"
      ],
      "metadata": {
        "id": "yM41845YRNCF"
      },
      "execution_count": 7,
      "outputs": []
    },
    {
      "cell_type": "markdown",
      "source": [
        "**Configura Rede Neural Convolucional com os parâmetros**"
      ],
      "metadata": {
        "id": "Ul_DL31zTWRZ"
      }
    },
    {
      "cell_type": "code",
      "source": [
        "model = models.Sequential()\n",
        "\n",
        "model.add(layers.Reshape((268, 1), input_shape=(1, 268)))\n",
        "model.add(layers.Conv1D(32, 3, activation='relu'))\n",
        "model.add(layers.MaxPooling1D(2))\n",
        "model.add(layers.Conv1D(64, 3, activation='relu'))\n",
        "model.add(layers.MaxPooling1D(2))\n",
        "model.add(layers.Flatten())\n",
        "model.add(layers.Dense(128, activation='relu'))\n",
        "model.add(layers.Dense(1, activation='sigmoid'))  # Camada de saída para classificação binária\n",
        "\n",
        "model.compile(optimizer='adam', loss='binary_crossentropy', metrics=['accuracy'])\n",
        "\n",
        "model.summary()"
      ],
      "metadata": {
        "colab": {
          "base_uri": "https://localhost:8080/"
        },
        "id": "ltCHVZ9ilvPm",
        "outputId": "bf8d44e8-2300-47d2-a54f-6b245ed02258"
      },
      "execution_count": 8,
      "outputs": [
        {
          "output_type": "stream",
          "name": "stdout",
          "text": [
            "Model: \"sequential\"\n",
            "_________________________________________________________________\n",
            " Layer (type)                Output Shape              Param #   \n",
            "=================================================================\n",
            " reshape (Reshape)           (None, 268, 1)            0         \n",
            "                                                                 \n",
            " conv1d (Conv1D)             (None, 266, 32)           128       \n",
            "                                                                 \n",
            " max_pooling1d (MaxPooling1  (None, 133, 32)           0         \n",
            " D)                                                              \n",
            "                                                                 \n",
            " conv1d_1 (Conv1D)           (None, 131, 64)           6208      \n",
            "                                                                 \n",
            " max_pooling1d_1 (MaxPoolin  (None, 65, 64)            0         \n",
            " g1D)                                                            \n",
            "                                                                 \n",
            " flatten (Flatten)           (None, 4160)              0         \n",
            "                                                                 \n",
            " dense (Dense)               (None, 128)               532608    \n",
            "                                                                 \n",
            " dense_1 (Dense)             (None, 1)                 129       \n",
            "                                                                 \n",
            "=================================================================\n",
            "Total params: 539073 (2.06 MB)\n",
            "Trainable params: 539073 (2.06 MB)\n",
            "Non-trainable params: 0 (0.00 Byte)\n",
            "_________________________________________________________________\n"
          ]
        }
      ]
    },
    {
      "cell_type": "code",
      "source": [
        "history = model.fit(treated_shuffled_x_data, shuffled_y_data, epochs=10)"
      ],
      "metadata": {
        "colab": {
          "base_uri": "https://localhost:8080/"
        },
        "id": "m57lO1kmvl9d",
        "outputId": "f6ac8e6c-a7e7-4504-9612-1fc2b1a08f2b"
      },
      "execution_count": 9,
      "outputs": [
        {
          "output_type": "stream",
          "name": "stdout",
          "text": [
            "Epoch 1/10\n",
            "63/63 [==============================] - 12s 6ms/step - loss: 8.5479 - accuracy: 0.6472\n",
            "Epoch 2/10\n",
            "63/63 [==============================] - 0s 5ms/step - loss: 0.5069 - accuracy: 0.7736\n",
            "Epoch 3/10\n",
            "63/63 [==============================] - 0s 5ms/step - loss: 0.4423 - accuracy: 0.8191\n",
            "Epoch 4/10\n",
            "63/63 [==============================] - 0s 5ms/step - loss: 0.4522 - accuracy: 0.8146\n",
            "Epoch 5/10\n",
            "63/63 [==============================] - 0s 5ms/step - loss: 0.3903 - accuracy: 0.8346\n",
            "Epoch 6/10\n",
            "63/63 [==============================] - 0s 5ms/step - loss: 0.2937 - accuracy: 0.9065\n",
            "Epoch 7/10\n",
            "63/63 [==============================] - 0s 5ms/step - loss: 0.2980 - accuracy: 0.8971\n",
            "Epoch 8/10\n",
            "63/63 [==============================] - 0s 5ms/step - loss: 0.2617 - accuracy: 0.9195\n",
            "Epoch 9/10\n",
            "63/63 [==============================] - 0s 5ms/step - loss: 0.2748 - accuracy: 0.9050\n",
            "Epoch 10/10\n",
            "63/63 [==============================] - 0s 4ms/step - loss: 0.2303 - accuracy: 0.9345\n"
          ]
        }
      ]
    },
    {
      "cell_type": "code",
      "source": [
        "plt.plot(history.history['accuracy'], label='accuracy')\n",
        "plt.xlabel('Epoch')\n",
        "plt.ylabel('Accuracy')\n",
        "plt.ylim([0.5, 1])\n",
        "plt.legend(loc='lower right')"
      ],
      "metadata": {
        "colab": {
          "base_uri": "https://localhost:8080/",
          "height": 472
        },
        "id": "WdIE1JeikA29",
        "outputId": "0eb6c715-a62f-4640-bbc7-953f235f464b"
      },
      "execution_count": null,
      "outputs": [
        {
          "output_type": "execute_result",
          "data": {
            "text/plain": [
              "<matplotlib.legend.Legend at 0x7a1da3f51840>"
            ]
          },
          "metadata": {},
          "execution_count": 23
        },
        {
          "output_type": "display_data",
          "data": {
            "text/plain": [
              "<Figure size 640x480 with 1 Axes>"
            ],
            "image/png": "[encoded data removed]"
          },
          "metadata": {}
        }
      ]
    },
    {
      "cell_type": "code",
      "source": [
        "test_loss, test_acc = model.evaluate(x_test,  y_test, verbose=2)\n",
        "print(test_acc)"
      ],
      "metadata": {
        "colab": {
          "base_uri": "https://localhost:8080/"
        },
        "id": "oLtBWO1DkGFe",
        "outputId": "f93bf311-8028-40ae-dabd-00ad26e288dc"
      },
      "execution_count": null,
      "outputs": [
        {
          "output_type": "stream",
          "name": "stdout",
          "text": [
            "19/19 - 0s - loss: 0.3491 - accuracy: 0.9032 - 250ms/epoch - 13ms/step\n",
            "0.903171956539154\n"
          ]
        }
      ]
    },
    {
      "cell_type": "code",
      "source": [
        "tf.saved_model.save(model, 'saved_model')\n",
        "converter = tf.lite.TFLiteConverter.from_saved_model('saved_model')  # Cria um conversor\n",
        "tflite_model = converter.convert()  # Converte o modelo\n",
        "\n",
        "with open('model.tflite', 'wb') as f:\n",
        "    f.write(tflite_model)\n"
      ],
      "metadata": {
        "id": "nxj_iSUVpVeq"
      },
      "execution_count": null,
      "outputs": []
    }
  ]
}